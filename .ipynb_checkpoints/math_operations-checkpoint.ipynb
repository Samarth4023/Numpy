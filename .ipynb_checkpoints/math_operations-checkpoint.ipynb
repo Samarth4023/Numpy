{
 "cells": [
  {
   "cell_type": "code",
   "execution_count": 1,
   "id": "89d66cc9-8e44-477c-811d-964a8d29b7e0",
   "metadata": {},
   "outputs": [],
   "source": [
    "import numpy as np"
   ]
  },
  {
   "cell_type": "code",
   "execution_count": 3,
   "id": "52620fe1-e5c4-491f-b7c5-e2ca6b6aca96",
   "metadata": {},
   "outputs": [
    {
     "name": "stdout",
     "output_type": "stream",
     "text": [
      "[5 7 9]\n",
      "[-3 -3 -3]\n",
      "[ 4 10 18]\n"
     ]
    }
   ],
   "source": [
    "a = np.array([1, 2, 3])\n",
    "b = np.array([4, 5, 6])\n",
    "\n",
    "add = a + b\n",
    "print(add)\n",
    "sub = a - b\n",
    "print(sub)\n",
    "mul = a * b\n",
    "print(mul)"
   ]
  },
  {
   "cell_type": "code",
   "execution_count": 5,
   "id": "9cf87ab0-b3a2-4fa4-a41a-326931c835cc",
   "metadata": {},
   "outputs": [
    {
     "name": "stdout",
     "output_type": "stream",
     "text": [
      "[[1 2 3]\n",
      " [1 2 3]]\n",
      "[[4 5 6]\n",
      " [4 5 6]]\n",
      "[[5 7 9]\n",
      " [5 7 9]]\n",
      "[[-3 -3 -3]\n",
      " [-3 -3 -3]]\n",
      "[[ 4 10 18]\n",
      " [ 4 10 18]]\n"
     ]
    }
   ],
   "source": [
    "a = np.array([[1, 2, 3], [1, 2, 3]])\n",
    "b = np.array([[4, 5, 6], [4, 5, 6]])\n",
    "\n",
    "print(a)\n",
    "print(b)\n",
    "\n",
    "add = a + b\n",
    "print(add)\n",
    "sub = a - b\n",
    "print(sub)\n",
    "mul = a * b\n",
    "print(mul)"
   ]
  }
 ],
 "metadata": {
  "kernelspec": {
   "display_name": "example",
   "language": "python",
   "name": "example"
  },
  "language_info": {
   "codemirror_mode": {
    "name": "ipython",
    "version": 3
   },
   "file_extension": ".py",
   "mimetype": "text/x-python",
   "name": "python",
   "nbconvert_exporter": "python",
   "pygments_lexer": "ipython3",
   "version": "3.12.2"
  }
 },
 "nbformat": 4,
 "nbformat_minor": 5
}
