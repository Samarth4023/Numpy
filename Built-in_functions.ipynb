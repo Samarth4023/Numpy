{
 "cells": [
  {
   "cell_type": "code",
   "execution_count": 1,
   "id": "4f7b821b-98f8-4870-b21b-a512fa2b391e",
   "metadata": {},
   "outputs": [],
   "source": [
    "import numpy as np"
   ]
  },
  {
   "cell_type": "markdown",
   "id": "8cfc4efc-cf4b-4091-a3d1-59e5a513fa4c",
   "metadata": {},
   "source": [
    "### Returning a new array, filled with only ones."
   ]
  },
  {
   "cell_type": "code",
   "execution_count": 3,
   "id": "5c07819d-6ee6-4aab-b278-aec79b53369f",
   "metadata": {},
   "outputs": [
    {
     "name": "stdout",
     "output_type": "stream",
     "text": [
      "[1. 1. 1.]\n"
     ]
    }
   ],
   "source": [
    "o = np.ones(3)\n",
    "print(o)"
   ]
  },
  {
   "cell_type": "markdown",
   "id": "c4a5f1e0-dfc1-4c71-9d42-855f0f12d50d",
   "metadata": {},
   "source": [
    "### Returning a new array, filled withonly zeros."
   ]
  },
  {
   "cell_type": "code",
   "execution_count": 5,
   "id": "7a32756a-2131-40f7-87dc-f79af1a56c57",
   "metadata": {},
   "outputs": [
    {
     "name": "stdout",
     "output_type": "stream",
     "text": [
      "[0. 0. 0. 0. 0.]\n"
     ]
    }
   ],
   "source": [
    "z = np.zeros(5)\n",
    "print(z)"
   ]
  },
  {
   "cell_type": "markdown",
   "id": "876bd528-f5d6-4ea5-8cc5-edef56807e25",
   "metadata": {},
   "source": [
    "### Returning a new array, that is  empty"
   ]
  },
  {
   "cell_type": "code",
   "execution_count": 7,
   "id": "decdd74e-1702-45b0-928c-5a6f349ca011",
   "metadata": {},
   "outputs": [
    {
     "name": "stdout",
     "output_type": "stream",
     "text": [
      "[0. 0. 0. 0. 0.]\n"
     ]
    }
   ],
   "source": [
    "e = np.empty(5)\n",
    "print(z)"
   ]
  },
  {
   "cell_type": "markdown",
   "id": "47323635-0e52-423c-aa01-dd1f00cadf81",
   "metadata": {},
   "source": [
    "### Returning a new array, filled with random numbers."
   ]
  },
  {
   "cell_type": "code",
   "execution_count": 9,
   "id": "56a00b97-1e00-4d05-981e-ca0316bbed53",
   "metadata": {},
   "outputs": [
    {
     "name": "stdout",
     "output_type": "stream",
     "text": [
      "[0.87981969 0.52797297 0.26358802 0.68595055 0.1305163 ]\n"
     ]
    }
   ],
   "source": [
    "r = np.random.rand(5)\n",
    "print(r)"
   ]
  }
 ],
 "metadata": {
  "kernelspec": {
   "display_name": "Python 3 (ipykernel)",
   "language": "python",
   "name": "python3"
  },
  "language_info": {
   "codemirror_mode": {
    "name": "ipython",
    "version": 3
   },
   "file_extension": ".py",
   "mimetype": "text/x-python",
   "name": "python",
   "nbconvert_exporter": "python",
   "pygments_lexer": "ipython3",
   "version": "3.11.7"
  }
 },
 "nbformat": 4,
 "nbformat_minor": 5
}
