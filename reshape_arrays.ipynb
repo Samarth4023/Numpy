{
 "cells": [
  {
   "cell_type": "code",
   "execution_count": 16,
   "id": "fceffb05-cf0e-492a-826c-e71b602034b5",
   "metadata": {},
   "outputs": [],
   "source": [
    "import numpy as np"
   ]
  },
  {
   "cell_type": "code",
   "execution_count": 22,
   "id": "bc7bcbb4-a16d-4608-9e18-02223de1298c",
   "metadata": {},
   "outputs": [
    {
     "name": "stdout",
     "output_type": "stream",
     "text": [
      "[[1 2 3]\n",
      " [4 5 6]]\n"
     ]
    }
   ],
   "source": [
    "one_arr = np.array([1, 2, 3, 4, 5, 6])\n",
    "\n",
    "m_arr = np.reshape(one_arr, (2, 3))\n",
    "print(m_arr)"
   ]
  }
 ],
 "metadata": {
  "kernelspec": {
   "display_name": "Python 3 (ipykernel)",
   "language": "python",
   "name": "python3"
  },
  "language_info": {
   "codemirror_mode": {
    "name": "ipython",
    "version": 3
   },
   "file_extension": ".py",
   "mimetype": "text/x-python",
   "name": "python",
   "nbconvert_exporter": "python",
   "pygments_lexer": "ipython3",
   "version": "3.11.7"
  }
 },
 "nbformat": 4,
 "nbformat_minor": 5
}
