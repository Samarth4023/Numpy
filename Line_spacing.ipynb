{
 "cells": [
  {
   "cell_type": "code",
   "execution_count": 1,
   "id": "7730bb43-9db0-4664-b46b-81b81593bc8e",
   "metadata": {},
   "outputs": [],
   "source": [
    "import numpy as np"
   ]
  },
  {
   "cell_type": "code",
   "execution_count": 5,
   "id": "deed53ab-9bb9-48de-8ad8-ff0fe405a75d",
   "metadata": {},
   "outputs": [
    {
     "name": "stdout",
     "output_type": "stream",
     "text": [
      "[  0.  25.  50.  75. 100.]\n"
     ]
    }
   ],
   "source": [
    "a = np.linspace(0, 100, 5) # array using linspace(start, end, number of elements)\n",
    "print(a)"
   ]
  },
  {
   "cell_type": "markdown",
   "id": "dcfe7c12-8b0e-4c56-9b20-702062eb6c83",
   "metadata": {},
   "source": [
    "### changing default type"
   ]
  },
  {
   "cell_type": "code",
   "execution_count": 8,
   "id": "7f9b3bb8-675c-4231-a659-954b61ae3303",
   "metadata": {},
   "outputs": [
    {
     "name": "stdout",
     "output_type": "stream",
     "text": [
      "[  0  25  50  75 100]\n"
     ]
    }
   ],
   "source": [
    "b = np.linspace(0, 100, 5, dtype = int)\n",
    "print(b)"
   ]
  },
  {
   "cell_type": "code",
   "execution_count": 12,
   "id": "8d3a711d-d633-4d79-83b7-c5d4730c49b4",
   "metadata": {},
   "outputs": [
    {
     "name": "stdout",
     "output_type": "stream",
     "text": [
      "[ 0.  1.  2.  3.  4.  5.  6.  7.  8.  9. 10. 11. 12. 13. 14. 15. 16. 17.\n",
      " 18. 19.]\n"
     ]
    }
   ],
   "source": []
  },
  {
   "cell_type": "code",
   "execution_count": null,
   "id": "88b312b2-8c38-430d-8c2b-6dff647c1063",
   "metadata": {},
   "outputs": [],
   "source": []
  }
 ],
 "metadata": {
  "kernelspec": {
   "display_name": "example",
   "language": "python",
   "name": "example"
  },
  "language_info": {
   "codemirror_mode": {
    "name": "ipython",
    "version": 3
   },
   "file_extension": ".py",
   "mimetype": "text/x-python",
   "name": "python",
   "nbconvert_exporter": "python",
   "pygments_lexer": "ipython3",
   "version": "3.12.2"
  }
 },
 "nbformat": 4,
 "nbformat_minor": 5
}
