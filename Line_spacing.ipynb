{
 "cells": [
  {
   "cell_type": "code",
   "execution_count": 1,
   "id": "7730bb43-9db0-4664-b46b-81b81593bc8e",
   "metadata": {},
   "outputs": [],
   "source": [
    "import numpy as np"
   ]
  },
  {
   "cell_type": "code",
   "execution_count": 5,
   "id": "deed53ab-9bb9-48de-8ad8-ff0fe405a75d",
   "metadata": {},
   "outputs": [
    {
     "name": "stdout",
     "output_type": "stream",
     "text": [
      "[  0.  25.  50.  75. 100.]\n"
     ]
    }
   ],
   "source": [
    "a = np.linspace(0, 100, 5) # array using linspace(start, end, number of elements)\n",
    "print(a)"
   ]
  },
  {
   "cell_type": "markdown",
   "id": "dcfe7c12-8b0e-4c56-9b20-702062eb6c83",
   "metadata": {},
   "source": [
    "### changing default type"
   ]
  },
  {
   "cell_type": "code",
   "execution_count": 17,
   "id": "7f9b3bb8-675c-4231-a659-954b61ae3303",
   "metadata": {},
   "outputs": [
    {
     "name": "stdout",
     "output_type": "stream",
     "text": [
      "[  0  25  50  75 100]\n"
     ]
    }
   ],
   "source": [
    "b = np.linspace(0, 100, 5, dtype = int) # changiing default type\n",
    "print(b)"
   ]
  },
  {
   "cell_type": "markdown",
   "id": "611b89a3-b28c-4d56-a95b-4d96aa75b2cb",
   "metadata": {},
   "source": [
    "### character dtype"
   ]
  },
  {
   "cell_type": "code",
   "execution_count": 20,
   "id": "cbf8688f-6fa1-4098-b886-d5dbbd19595e",
   "metadata": {},
   "outputs": [
    {
     "name": "stdout",
     "output_type": "stream",
     "text": [
      "['Hello! I am an Ai / ML Engineer']\n",
      "<U31\n"
     ]
    }
   ],
   "source": [
    "c = np.array(['Hello! I am an Ai / ML Engineer'])\n",
    "print(c)\n",
    "print(c.dtype)"
   ]
  },
  {
   "cell_type": "markdown",
   "id": "8a051389-a6dc-4dc9-bde3-b813da8901c3",
   "metadata": {},
   "source": [
    "The output of the data type of the `c` array is `<U31`? \n",
    "This means that the string (`'Hello! I am an Ai / ML Engineer'`) is a 31-character (31) unicode string (`U`) on a little-endian architecture (`<`)."
   ]
  },
  {
   "cell_type": "code",
   "execution_count": null,
   "id": "17ac958e-4811-4958-8ca8-07ee64d7e027",
   "metadata": {},
   "outputs": [],
   "source": []
  }
 ],
 "metadata": {
  "kernelspec": {
   "display_name": "example",
   "language": "python",
   "name": "example"
  },
  "language_info": {
   "codemirror_mode": {
    "name": "ipython",
    "version": 3
   },
   "file_extension": ".py",
   "mimetype": "text/x-python",
   "name": "python",
   "nbconvert_exporter": "python",
   "pygments_lexer": "ipython3",
   "version": "3.12.2"
  }
 },
 "nbformat": 4,
 "nbformat_minor": 5
}
