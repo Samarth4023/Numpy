{
 "cells": [
  {
   "cell_type": "code",
   "execution_count": 1,
   "id": "20ef0c60-4486-48af-af78-e2244442f7da",
   "metadata": {},
   "outputs": [],
   "source": [
    "import numpy as np"
   ]
  },
  {
   "cell_type": "code",
   "execution_count": 7,
   "id": "84916d9d-9806-444f-9c1f-8dd608267ccb",
   "metadata": {},
   "outputs": [
    {
     "name": "stdout",
     "output_type": "stream",
     "text": [
      "[[1 1]\n",
      " [2 2]\n",
      " [3 3]\n",
      " [4 4]]\n"
     ]
    }
   ],
   "source": [
    "a = np.array([[1,1], \n",
    "               [2,2]])\n",
    "b = np.array([[3,3],\n",
    "              [4,4]])\n",
    "\n",
    "v = np.vstack((a, b))\n",
    "print(v)"
   ]
  },
  {
   "cell_type": "code",
   "execution_count": 9,
   "id": "06ed76b1-4392-4942-b19e-10430ce2f9b8",
   "metadata": {},
   "outputs": [
    {
     "name": "stdout",
     "output_type": "stream",
     "text": [
      "[[1 1 3 3]\n",
      " [2 2 4 4]]\n"
     ]
    }
   ],
   "source": [
    "a = np.array([[1,1], \n",
    "               [2,2]])\n",
    "b = np.array([[3,3],\n",
    "              [4,4]])\n",
    "\n",
    "h = np.hstack((a, b))\n",
    "print(h)"
   ]
  },
  {
   "cell_type": "code",
   "execution_count": 11,
   "id": "1c53f0ee-8897-4fad-a25c-b21dbd6ec632",
   "metadata": {},
   "outputs": [
    {
     "name": "stdout",
     "output_type": "stream",
     "text": [
      "[array([[1, 1],\n",
      "       [2, 2]]), array([[3, 3],\n",
      "       [4, 4]])]\n",
      "[array([[1],\n",
      "       [2]]), array([[1],\n",
      "       [2]]), array([[3],\n",
      "       [4]]), array([[3],\n",
      "       [4]])]\n",
      "[array([[1],\n",
      "       [2]]), array([[1, 3, 3],\n",
      "       [2, 4, 4]])]\n"
     ]
    }
   ],
   "source": [
    "# Split the horizontally stacked array into 2 separate arrays of equal size\n",
    "horz_split_two = np.hsplit(h,2)\n",
    "print(horz_split_two)\n",
    "\n",
    "# Split the horizontally stacked array into 4 separate arrays of equal size\n",
    "horz_split_four = np.hsplit(h,4)\n",
    "print(horz_split_four)\n",
    "\n",
    "# Split the horizontally stacked array after the first column\n",
    "horz_split_first = np.hsplit(h,[1])\n",
    "print(horz_split_first)"
   ]
  },
  {
   "cell_type": "code",
   "execution_count": 13,
   "id": "9f0d76d5-5dc1-4fd8-8421-079e3580106d",
   "metadata": {},
   "outputs": [
    {
     "name": "stdout",
     "output_type": "stream",
     "text": [
      "[array([[1, 1],\n",
      "       [2, 2]]), array([[3, 3],\n",
      "       [4, 4]])]\n",
      "[array([[1, 1]]), array([[2, 2]]), array([[3, 3]]), array([[4, 4]])]\n",
      "[array([[1, 1]]), array([[2, 2],\n",
      "       [3, 3]]), array([[4, 4]])]\n"
     ]
    }
   ],
   "source": [
    "# Split the vertically stacked array into 2 separate arrays of equal size\n",
    "vert_split_two = np.vsplit(v,2)\n",
    "print(vert_split_two)\n",
    "\n",
    "# Split the horizontally stacked array into 4 separate arrays of equal size\n",
    "vert_split_four = np.vsplit(v,4)\n",
    "print(vert_split_four)\n",
    "\n",
    "# Split the horizontally stacked array after the first and third row\n",
    "vert_split_first_third = np.vsplit(v,[1,3])\n",
    "print(vert_split_first_third)"
   ]
  }
 ],
 "metadata": {
  "kernelspec": {
   "display_name": "example",
   "language": "python",
   "name": "example"
  },
  "language_info": {
   "codemirror_mode": {
    "name": "ipython",
    "version": 3
   },
   "file_extension": ".py",
   "mimetype": "text/x-python",
   "name": "python",
   "nbconvert_exporter": "python",
   "pygments_lexer": "ipython3",
   "version": "3.12.2"
  }
 },
 "nbformat": 4,
 "nbformat_minor": 5
}
